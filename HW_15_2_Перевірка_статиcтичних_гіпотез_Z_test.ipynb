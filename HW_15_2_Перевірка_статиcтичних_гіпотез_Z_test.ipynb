{
  "cells": [
    {
      "cell_type": "markdown",
      "metadata": {
        "id": "view-in-github",
        "colab_type": "text"
      },
      "source": [
        "<a href=\"https://colab.research.google.com/github/VeronikaBastiuchenko/All_hw_Python.ipynb/blob/main/HW_15_2_%D0%9F%D0%B5%D1%80%D0%B5%D0%B2%D1%96%D1%80%D0%BA%D0%B0_%D1%81%D1%82%D0%B0%D1%82%D0%B8c%D1%82%D0%B8%D1%87%D0%BD%D0%B8%D1%85_%D0%B3%D1%96%D0%BF%D0%BE%D1%82%D0%B5%D0%B7_Z_test.ipynb\" target=\"_parent\"><img src=\"https://colab.research.google.com/assets/colab-badge.svg\" alt=\"Open In Colab\"/></a>"
      ]
    },
    {
      "cell_type": "markdown",
      "id": "e152f6d6",
      "metadata": {
        "ExecuteTime": {
          "end_time": "2022-12-10T14:29:24.703416Z",
          "start_time": "2022-12-10T14:29:24.688485Z"
        },
        "id": "e152f6d6"
      },
      "source": [
        "#Перевірка статиcтичних гіпотез. Z-test.\n",
        "\n"
      ]
    },
    {
      "cell_type": "markdown",
      "id": "cd404683",
      "metadata": {
        "id": "cd404683"
      },
      "source": [
        "0. Зчитайте дані з `data.csv` у змінну data, яка має тип pandas.DataFrame. Ми будемо далі працювати з цією змінною."
      ]
    },
    {
      "cell_type": "code",
      "execution_count": 49,
      "id": "b20b6ba2",
      "metadata": {
        "id": "b20b6ba2"
      },
      "outputs": [],
      "source": [
        "import numpy as np, pandas as pd\n",
        "from scipy.stats import t\n",
        "df = pd.read_csv('data.csv')\n",
        "x = df['data'].dropna().to_numpy()\n",
        "\n"
      ]
    },
    {
      "cell_type": "markdown",
      "id": "3d06cbbf",
      "metadata": {
        "id": "3d06cbbf"
      },
      "source": [
        "Запустіть код нижче. Для коректної робити всіх подальших методів дані мають бути у вигляді одновимірного `numpy.ndarray` вектора та мати розмірність (100,). Така розмірність означає, що дані - одновимірні (колонка), якщо б розмірність була (100, 1), то дані сприймаються методами як двовимірні (таблиця), хоча для нас виглядати можуть так само."
      ]
    },
    {
      "cell_type": "code",
      "execution_count": 50,
      "id": "cce1632b",
      "metadata": {
        "id": "cce1632b",
        "colab": {
          "base_uri": "https://localhost:8080/"
        },
        "outputId": "1b8f4fd8-66b4-4a3c-c043-96491326ea8b"
      },
      "outputs": [
        {
          "output_type": "execute_result",
          "data": {
            "text/plain": [
              "(100,)"
            ]
          },
          "metadata": {},
          "execution_count": 50
        }
      ],
      "source": [
        "data = df[col].dropna().values\n",
        "data.shape"
      ]
    },
    {
      "cell_type": "markdown",
      "id": "abdcef5d",
      "metadata": {
        "id": "abdcef5d"
      },
      "source": [
        "**Завдання 1**. Зчитані дані - це сума покупок в доларах наших покупців на сайті протягом липня 2025 року.\n",
        "\n",
        "До цього місяця, ми мали продажі в середньому на чек $20.\n",
        "\n",
        "Необхідно зʼясувати, чи вийшло у нас статистично значущо **підвищити** середній чек за липень 2025?\n",
        "\n",
        "Аби дати відповідь - ми проведемо z-test на рівні значущості $\\alpha=0.05$ двома способами. В цьому завданні ми будемо виконувати обчислення \"вручну\" з використанням бібліотек numpy та scipy.stats подібно до прикладу в лекції. Для цього виконайте наступні 7 кроків. Правильне виконання кожного з кроків оцінюється в 1 бал.\n",
        "\n",
        "1. Запишіть параметри задачі у змінні Python:\n",
        "    - `sample_mean` - $\\bar{x}$, середнє значення в вибірці\n",
        "    - `population_mean` - $\\mu_0$, середнє значення в популяції (тобто те, з яким ми порівнюємо середнє вибіркове значення)\n",
        "    - `population_std` - $\\sigma$, вибіркове стандартне відхилення, яке ми вважаємо, що є рівним ст. відх. популяції, адже маємо достатньо велику вибірку.\n",
        "    - `sample_size` - $n$, розмір вибірки\n",
        "    - `alpha` - $\\alpha$ рівень значущості\n",
        "    \n",
        "    **Увага!** Для обчислення стандартного відхилення маємо скористатись функцією `np.std(your_dataframe, ddof=1)`. Чому так - розбираємо в лекції про t-test.\n",
        "\n",
        "\n",
        "2. Визначте для цієї задачі:\n",
        "    - якою є гіпотеза $H_0$\n",
        "    - якою є альтернативна гіпотеза $H_a$\n",
        "    - з яким типом тесту ми маємо справу - лівосторонній, правосторонній чи двосторонній.\n",
        "\n",
        "3. Обчисліть стандартну помилку SE.\n",
        "4. Розрахуйте z-статистику.\n",
        "5. Знайдіть критичне z-значення з допомогою бібліотеки stats.\n",
        "6. Обчисліть p-value з допомогою бібліотеки stats.\n",
        "7. Прийміть рішення, чи відхиляєте ви гіпотезу $H_0$. Для прийняття рішення зробіть і порівняння z-статистики з критичним значенням, і проаналізуйте p-value."
      ]
    },
    {
      "cell_type": "code",
      "source": [
        "mu0 = 20.0\n",
        "alpha = 0.05\n",
        "n = len(x)\n",
        "xbar = x.mean()\n",
        "s = x.std(ddof=1)"
      ],
      "metadata": {
        "id": "NX2XezWLdf4t"
      },
      "id": "NX2XezWLdf4t",
      "execution_count": 51,
      "outputs": []
    },
    {
      "cell_type": "markdown",
      "source": [
        "H0 : 𝜇 = 𝜇0 ;\n",
        "H1 : 𝜇 > 𝜇0 - правосторонній тест\n",
        "\n",
        "\n",
        "\n",
        "\n"
      ],
      "metadata": {
        "id": "4tWiU6NzlgCs"
      },
      "id": "4tWiU6NzlgCs"
    },
    {
      "cell_type": "code",
      "source": [
        "SE = s / np.sqrt(n)\n",
        "t_stat = (xbar - mu0) / SE\n",
        "dfree = n - 1\n",
        "\n",
        "t_crit = t.ppf(1 - alpha, df=dfree)\n",
        "p_right = 1 - t.cdf(t_stat, df=dfree)"
      ],
      "metadata": {
        "id": "DbpM-gc2lWs6"
      },
      "id": "DbpM-gc2lWs6",
      "execution_count": 57,
      "outputs": []
    },
    {
      "cell_type": "code",
      "source": [
        "ci_lower = xbar - t_crit * SE\n",
        "\n",
        "print(f\"n={n}, x̄={xbar:.4f}, s={s:.4f}, SE={SE:.4f}, df={dfree}\")\n",
        "print(f\"t={t_stat:.4f}, t_crit={t_crit:.4f}, p_right={p_right:.6f}\")\n",
        "print(f\"95% one-sided lower CI for μ: [{ci_lower:.2f}, ∞)\")\n",
        "\n",
        "decision = \"Відхиляємо H0 (зріс)\" if t_stat >= t_crit else \"Не відхиляємо H0 (доказів зростання немає)\"\n",
        "print(\"Рішення:\", decision)"
      ],
      "metadata": {
        "colab": {
          "base_uri": "https://localhost:8080/"
        },
        "id": "HoCvAF82mGMi",
        "outputId": "127808d0-216c-4001-a9f5-ef90010266ee"
      },
      "id": "HoCvAF82mGMi",
      "execution_count": 58,
      "outputs": [
        {
          "output_type": "stream",
          "name": "stdout",
          "text": [
            "n=100, x̄=19.3776, s=6.2536, SE=0.6254, df=99\n",
            "t=-0.9953, t_crit=1.6604, p_right=0.839003\n",
            "95% one-sided lower CI for μ: [18.34, ∞)\n",
            "Рішення: Не відхиляємо H0 (доказів зростання немає)\n"
          ]
        }
      ]
    },
    {
      "cell_type": "markdown",
      "source": [
        "**Завдання 2.** Виконайте обчислення z-test з використанням бібліотеки statsmodels.\n",
        "\n",
        "Отримайте z-статистику та р-значення.\n",
        "\n",
        "Виведіть p-значення та зробіть висновок, чи ми маємо достатньо доказів, аби стверджувати, що середній чек зріс.\n",
        "\n",
        "Чи зійшлись значення z-статистику та р-значення в цьому завданні з попередніми обчисленнями?\n",
        "\n",
        "Завдання оцінюється в 3 бали."
      ],
      "metadata": {
        "id": "0FOBByRMXkL2"
      },
      "id": "0FOBByRMXkL2"
    },
    {
      "cell_type": "code",
      "source": [
        "mu0 = 20.0\n",
        "alpha = 0.05\n",
        "alternative = 'larger'"
      ],
      "metadata": {
        "id": "aZMRrvB0pKhO"
      },
      "id": "aZMRrvB0pKhO",
      "execution_count": 60,
      "outputs": []
    },
    {
      "cell_type": "code",
      "source": [
        "t_stat, p_two_sided = ttest_1samp(x, popmean=mu0)\n",
        "p_right = p_two_sided/2 if t_stat > 0 else 1 - p_two_sided/2\n",
        "\n",
        "n = len(x)\n",
        "s = x.std(ddof=1)\n",
        "SE = s / np.sqrt(n)\n",
        "t_crit = t.ppf(1 - alpha, df=n-1)\n",
        "\n",
        "print(\"[t-test] one-sample, right-tailed\")\n",
        "print(f\"n={n}, x̄={x.mean():.3f}, s={s:.3f}, SE={SE:.3f}\")\n",
        "print(f\"t = {t_stat:.3f}, t_crit = {t_crit:.3f}, p_one_sided = {p_right:.6f}\")\n",
        "print(\"Decision:\", \"Reject H0\" if (t_stat >= t_crit) else \"Fail to reject H0\")"
      ],
      "metadata": {
        "colab": {
          "base_uri": "https://localhost:8080/"
        },
        "id": "JnKCPvhHpQQd",
        "outputId": "8e2e291e-fb24-44fd-f19c-b2f813d4947d"
      },
      "id": "JnKCPvhHpQQd",
      "execution_count": 61,
      "outputs": [
        {
          "output_type": "stream",
          "name": "stdout",
          "text": [
            "[t-test] one-sample, right-tailed\n",
            "n=100, x̄=19.378, s=6.254, SE=0.625\n",
            "t = -0.995, t_crit = 1.660, p_one_sided = 0.839003\n",
            "Decision: Fail to reject H0\n"
          ]
        }
      ]
    },
    {
      "cell_type": "code",
      "source": [
        "ci_lower = x.mean() - t_crit * SE\n",
        "print(f\"95% lower bound for μ: [{ci_lower:.2f}, ∞)\")"
      ],
      "metadata": {
        "colab": {
          "base_uri": "https://localhost:8080/"
        },
        "id": "2HxQYzU6pUg5",
        "outputId": "0e80f5dd-833c-4a59-bf1d-1b7ae4d9e0d7"
      },
      "id": "2HxQYzU6pUg5",
      "execution_count": 62,
      "outputs": [
        {
          "output_type": "stream",
          "name": "stdout",
          "text": [
            "95% lower bound for μ: [18.34, ∞)\n"
          ]
        }
      ]
    },
    {
      "cell_type": "code",
      "source": [
        "from scipy.stats import norm\n",
        "\n",
        "sigma_known = 5.0\n",
        "n  = len(x)\n",
        "xbar = x.mean()\n",
        "SEz = sigma_known / np.sqrt(n)\n",
        "z   = (xbar - mu0) / SEz\n",
        "p_right_z = 1 - norm.cdf(z)        # односторонній (> mu0)\n",
        "z_crit = norm.ppf(1 - alpha)\n",
        "\n",
        "print(f\"[Z-test known σ] z={z:.3f}, z_crit={z_crit:.3f}, p_one_sided={p_right_z:.6f}\")\n",
        "print(\"Decision:\", \"Reject H0\" if z >= z_crit else \"Fail to reject H0\")"
      ],
      "metadata": {
        "colab": {
          "base_uri": "https://localhost:8080/"
        },
        "id": "kA7Mo6jMpXM_",
        "outputId": "40f433c0-e93e-4e5a-9772-2bdfe5ffe44f"
      },
      "id": "kA7Mo6jMpXM_",
      "execution_count": 63,
      "outputs": [
        {
          "output_type": "stream",
          "name": "stdout",
          "text": [
            "[Z-test known σ] z=-1.245, z_crit=1.645, p_one_sided=0.893415\n",
            "Decision: Fail to reject H0\n"
          ]
        }
      ]
    },
    {
      "cell_type": "markdown",
      "source": [
        "Висновок: доказів зростання середнього чека (μ > 20) немає."
      ],
      "metadata": {
        "id": "hdtNy6Vor_bc"
      },
      "id": "hdtNy6Vor_bc"
    }
  ],
  "metadata": {
    "hide_input": false,
    "kernelspec": {
      "display_name": "Python 3 (ipykernel)",
      "language": "python",
      "name": "python3"
    },
    "language_info": {
      "codemirror_mode": {
        "name": "ipython",
        "version": 3
      },
      "file_extension": ".py",
      "mimetype": "text/x-python",
      "name": "python",
      "nbconvert_exporter": "python",
      "pygments_lexer": "ipython3",
      "version": "3.11.3"
    },
    "toc": {
      "base_numbering": 1,
      "nav_menu": {},
      "number_sections": true,
      "sideBar": true,
      "skip_h1_title": false,
      "title_cell": "Table of Contents",
      "title_sidebar": "Contents",
      "toc_cell": false,
      "toc_position": {},
      "toc_section_display": true,
      "toc_window_display": false
    },
    "varInspector": {
      "cols": {
        "lenName": 16,
        "lenType": 16,
        "lenVar": 40
      },
      "kernels_config": {
        "python": {
          "delete_cmd_postfix": "",
          "delete_cmd_prefix": "del ",
          "library": "var_list.py",
          "varRefreshCmd": "print(var_dic_list())"
        },
        "r": {
          "delete_cmd_postfix": ") ",
          "delete_cmd_prefix": "rm(",
          "library": "var_list.r",
          "varRefreshCmd": "cat(var_dic_list()) "
        }
      },
      "types_to_exclude": [
        "module",
        "function",
        "builtin_function_or_method",
        "instance",
        "_Feature"
      ],
      "window_display": false
    },
    "colab": {
      "provenance": [],
      "include_colab_link": true
    }
  },
  "nbformat": 4,
  "nbformat_minor": 5
}